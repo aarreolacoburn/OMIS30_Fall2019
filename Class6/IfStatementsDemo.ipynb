{
 "cells": [
  {
   "cell_type": "code",
   "execution_count": 1,
   "metadata": {},
   "outputs": [],
   "source": [
    "a = 2"
   ]
  },
  {
   "cell_type": "code",
   "execution_count": 2,
   "metadata": {},
   "outputs": [
    {
     "data": {
      "text/plain": [
       "2"
      ]
     },
     "execution_count": 2,
     "metadata": {},
     "output_type": "execute_result"
    }
   ],
   "source": [
    "a"
   ]
  },
  {
   "cell_type": "code",
   "execution_count": 6,
   "metadata": {},
   "outputs": [
    {
     "name": "stdout",
     "output_type": "stream",
     "text": [
      "a is greater than 1\n",
      "Mike\n"
     ]
    }
   ],
   "source": [
    "if a > 1:\n",
    "    print('a is greater than 1')\n",
    "    print('Mike')\n",
    "    b = a + 3\n",
    "else:\n",
    "    print('a is not greater than 1')"
   ]
  },
  {
   "cell_type": "code",
   "execution_count": 13,
   "metadata": {},
   "outputs": [
    {
     "name": "stdout",
     "output_type": "stream",
     "text": [
      "a betwen -3 and -1\n"
     ]
    }
   ],
   "source": [
    "a = -2\n",
    "if a > 1:\n",
    "    print('a is greater than 1')\n",
    "    print('Mike')\n",
    "    b = a + 3\n",
    "elif a > -1:\n",
    "    print('a between -1 and 1')\n",
    "elif a > -3:\n",
    "    print('a betwen -3 and -1')\n",
    "elif a == -2: #elif only runs if one of the criteria above is not met\n",
    "    print('a equals -2')\n",
    "else:\n",
    "    print('a less than -1')"
   ]
  },
  {
   "cell_type": "code",
   "execution_count": 18,
   "metadata": {},
   "outputs": [
    {
     "name": "stdout",
     "output_type": "stream",
     "text": [
      "a betwen -3 and -1\n",
      "a equals -2\n",
      "this is a dummy line\n",
      "a equals -2\n"
     ]
    }
   ],
   "source": [
    "a = -2\n",
    "if a > 1:\n",
    "    print('a is greater than 1')\n",
    "    print('Mike')\n",
    "    b = a + 3\n",
    "if a > -1:\n",
    "    print('a between -1 and 1')\n",
    "if a > -3:\n",
    "    print('a betwen -3 and -1')\n",
    "if a == -2: #elif only runs if one of the criteria above is not met\n",
    "    print('a equals -2')\n",
    "else:\n",
    "    print('a less than -1')\n",
    "\n",
    "print('this is a dummy line')\n",
    "\n",
    "if a == -2:\n",
    "    print('a equals -2')"
   ]
  },
  {
   "cell_type": "code",
   "execution_count": null,
   "metadata": {},
   "outputs": [],
   "source": []
  }
 ],
 "metadata": {
  "kernelspec": {
   "display_name": "Python 3",
   "language": "python",
   "name": "python3"
  },
  "language_info": {
   "codemirror_mode": {
    "name": "ipython",
    "version": 3
   },
   "file_extension": ".py",
   "mimetype": "text/x-python",
   "name": "python",
   "nbconvert_exporter": "python",
   "pygments_lexer": "ipython3",
   "version": "3.7.3"
  }
 },
 "nbformat": 4,
 "nbformat_minor": 2
}
